{
 "cells": [
  {
   "cell_type": "code",
   "execution_count": null,
   "metadata": {},
   "outputs": [],
   "source": [
    "import pandas as pd\n",
    "import numpy as np\n",
    "import matplotlib.pyplot as plt\n",
    "from sklearn.preprocessing import MinMaxScaler, StandardScaler\n",
    "import warnings\n",
    "warnings.filterwarnings('ignore')\n",
    "from scipy import stats\n",
    "%matplotlib inline\n",
    "import tensorflow as tf\n",
    "from tensorflow import keras\n",
    "from tensorflow.keras import Sequential, layers, callbacks\n",
    "from tensorflow.keras.layers import Dense, LSTM, Dropout, GRU, Bidirectional"
   ]
  },
  {
   "cell_type": "code",
   "execution_count": null,
   "metadata": {},
   "outputs": [],
   "source": [
    "tf.random.set_seed(1234)"
   ]
  },
  {
   "cell_type": "markdown",
   "metadata": {},
   "source": [
    "### DATASET"
   ]
  },
  {
   "cell_type": "code",
   "execution_count": null,
   "metadata": {},
   "outputs": [],
   "source": [
    "df = pd.read_csv('PasutRapi.csv', sep=';')"
   ]
  },
  {
   "cell_type": "code",
   "execution_count": null,
   "metadata": {},
   "outputs": [],
   "source": [
    "df.head()"
   ]
  },
  {
   "cell_type": "code",
   "execution_count": null,
   "metadata": {},
   "outputs": [],
   "source": [
    "df['Time (UTC)'] = pd.to_datetime(df['Time (UTC)'], format=\"%d/%m/%Y %H:%M\")\n",
    "df['WaterLevel(m)'] = pd.to_numeric(df['WaterLevel(m)'], errors='coerce')\n",
    "df.info()"
   ]
  },
  {
   "cell_type": "code",
   "execution_count": null,
   "metadata": {},
   "outputs": [],
   "source": [
    "df.rename(columns={'Time (UTC)':'time'}, inplace=True)\n",
    "df"
   ]
  },
  {
   "cell_type": "code",
   "execution_count": null,
   "metadata": {},
   "outputs": [],
   "source": [
    "plot_cols = ['WaterLevel(m)']\n",
    "plot_features = df[plot_cols]\n",
    "plot_features.index = df['time']\n",
    "_ = plot_features.plot(subplots=True)\n",
    "\n",
    "plot_features = df[plot_cols][:480]\n",
    "plot_features.index = df['time'][:480]\n",
    "_ = plot_features.plot(subplots=True)"
   ]
  },
  {
   "cell_type": "markdown",
   "metadata": {},
   "source": [
    "### INSPECT AND CLEANUP"
   ]
  },
  {
   "cell_type": "code",
   "execution_count": null,
   "metadata": {},
   "outputs": [],
   "source": [
    "df.describe().transpose()"
   ]
  },
  {
   "cell_type": "code",
   "execution_count": null,
   "metadata": {},
   "outputs": [],
   "source": [
    "df = df[(df['WaterLevel(m)'] > 0.2) & (df['WaterLevel(m)'] < 3.5)]\n",
    "# The above inplace edits are reflected in the DataFrame."
   ]
  },
  {
   "cell_type": "code",
   "execution_count": null,
   "metadata": {},
   "outputs": [],
   "source": [
    "df.describe().transpose()"
   ]
  },
  {
   "cell_type": "code",
   "execution_count": null,
   "metadata": {},
   "outputs": [],
   "source": [
    "plot_cols = ['WaterLevel(m)']\n",
    "plot_features = df[plot_cols]\n",
    "plot_features.index = df['time']\n",
    "_ = plot_features.plot(subplots=True)\n",
    "\n",
    "plot_features = df[plot_cols][:480]\n",
    "plot_features.index = df['time'][:480]\n",
    "_ = plot_features.plot(subplots=True)"
   ]
  },
  {
   "cell_type": "markdown",
   "metadata": {},
   "source": [
    "### FEATURE ENGINEERING"
   ]
  },
  {
   "cell_type": "code",
   "execution_count": null,
   "metadata": {},
   "outputs": [],
   "source": [
    "df.index = pd.to_datetime(df['time'], format='%Y-%m-%d-%H')\n",
    "del df['time']"
   ]
  },
  {
   "cell_type": "code",
   "execution_count": null,
   "metadata": {},
   "outputs": [],
   "source": [
    "# Split train data and test data\n",
    "train_size = int(len(df)*0.8)\n",
    "\n",
    "train_data = df.iloc[:train_size]\n",
    "test_data = df.iloc[train_size:]"
   ]
  },
  {
   "cell_type": "code",
   "execution_count": null,
   "metadata": {},
   "outputs": [],
   "source": [
    "scaler = MinMaxScaler().fit(train_data)\n",
    "train_scaled = scaler.transform(train_data)\n",
    "test_scaled = scaler.transform(test_data)"
   ]
  },
  {
   "cell_type": "code",
   "execution_count": null,
   "metadata": {},
   "outputs": [],
   "source": [
    "# Create input dataset\n",
    "def create_dataset (X, look_back = 1):\n",
    "    Xs, ys = [], []\n",
    " \n",
    "    for i in range(len(X)-look_back):\n",
    "        v = X[i:i+look_back]\n",
    "        Xs.append(v)\n",
    "        ys.append(X[i+look_back])\n",
    " \n",
    "    return np.array(Xs), np.array(ys)\n",
    "LOOK_BACK = 30\n",
    "X_train, y_train = create_dataset(train_scaled,LOOK_BACK)\n",
    "X_test, y_test = create_dataset(test_scaled,LOOK_BACK)\n",
    "# Print data shape\n",
    "print('X_train.shape: ', X_train.shape)\n",
    "print('y_train.shape: ', y_train.shape)\n",
    "print('X_test.shape: ', X_test.shape) \n",
    "print('y_test.shape: ', y_test.shape)"
   ]
  },
  {
   "cell_type": "code",
   "execution_count": null,
   "metadata": {},
   "outputs": [],
   "source": [
    "# Create BiLSTM model\n",
    "def create_bilstm(units):\n",
    "    model = Sequential()\n",
    "    # Input layer\n",
    "    model.add(Bidirectional(\n",
    "              LSTM(units = units, return_sequences=True), \n",
    "              input_shape=(X_train.shape[1], X_train.shape[2])))\n",
    "    # Hidden layer\n",
    "    model.add(Bidirectional(LSTM(units = units)))\n",
    "    model.add(Dense(1))\n",
    "    #Compile model\n",
    "    model.compile(optimizer='adam',loss='mse')\n",
    "    return model\n",
    "model_bilstm = create_bilstm(64)\n",
    "# Create GRU model\n",
    "def create_gru(units):\n",
    "    model = Sequential()\n",
    "    # Input layer\n",
    "    model.add(GRU (units = units, return_sequences = True, \n",
    "    input_shape = [X_train.shape[1], X_train.shape[2]]))\n",
    "    model.add(Dropout(0.2)) \n",
    "    # Hidden layer\n",
    "    model.add(GRU(units = units)) \n",
    "    model.add(Dropout(0.2))\n",
    "    model.add(Dense(units = 1)) \n",
    "    #Compile model\n",
    "    model.compile(optimizer='adam',loss='mse')\n",
    "    return model\n",
    "model_gru = create_gru(64)"
   ]
  },
  {
   "cell_type": "code",
   "execution_count": null,
   "metadata": {},
   "outputs": [
    {
     "name": "stdout",
     "output_type": "stream",
     "text": [
      "\u001b[1m 1385/41758\u001b[0m \u001b[37m━━━━━━━━━━━━━━━━━━━━\u001b[0m \u001b[1m39:18\u001b[0m 58ms/step - loss: 0.0054"
     ]
    }
   ],
   "source": [
    "def fit_model(model):\n",
    "    early_stop = keras.callbacks.EarlyStopping(monitor = 'val_loss',\n",
    "                                               patience = 10)\n",
    "    history = model.fit(X_train, y_train, epochs = 2,  \n",
    "                        validation_split = 0.2,\n",
    "                        batch_size = 16, shuffle = False, \n",
    "                        callbacks = [early_stop])\n",
    "    return history\n",
    "history_gru = fit_model(model_gru)\n",
    "history_bilstm = fit_model(model_bilstm)"
   ]
  },
  {
   "cell_type": "code",
   "execution_count": null,
   "metadata": {},
   "outputs": [],
   "source": [
    "y_test = scaler.inverse_transform(y_test)\n",
    "y_train = scaler.inverse_transform(y_train)"
   ]
  },
  {
   "cell_type": "code",
   "execution_count": null,
   "metadata": {},
   "outputs": [],
   "source": [
    "def plot_loss (history, model_name):\n",
    "    plt.figure(figsize = (10, 6))\n",
    "    plt.plot(history.history['loss'])\n",
    "    plt.plot(history.history['val_loss'])\n",
    "    plt.title('Model Train vs Validation Loss for ' + model_name)\n",
    "    plt.ylabel('Loss')\n",
    "    plt.xlabel('epoch')\n",
    "    plt.legend(['Train loss', 'Validation loss'], loc='upper right')\n",
    " \n",
    "plot_loss (history_gru, 'GRU')\n",
    "plot_loss (history_bilstm, 'Bidirectional LSTM')"
   ]
  },
  {
   "cell_type": "code",
   "execution_count": null,
   "metadata": {},
   "outputs": [],
   "source": [
    "# Make prediction\n",
    "def prediction(model):\n",
    "    prediction = model.predict(X_test)\n",
    "    prediction = scaler.inverse_transform(prediction)\n",
    "    return prediction\n",
    "prediction_gru = prediction(model_gru)\n",
    "prediction_bilstm = prediction(model_bilstm)\n",
    "# Plot test data vs prediction\n",
    "def plot_future(prediction, model_name, y_test):\n",
    "    plt.figure(figsize=(10, 6))\n",
    "    range_future = len(prediction)\n",
    "    plt.plot(np.arange(range_future), np.array(y_test), \n",
    "             label='Test   data')\n",
    "    plt.plot(np.arange(range_future), \n",
    "             np.array(prediction),label='Prediction')\n",
    "    plt.title('Test data vs prediction for ' + model_name)\n",
    "    plt.legend(loc='upper left')\n",
    "    plt.xlabel('Time (Hour)')\n",
    "    plt.ylabel('Water Level (mm)')\n",
    " \n",
    "plot_future(prediction_gru, 'GRU', y_test)\n",
    "plot_future(prediction_bilstm, 'Bidirectional LSTM', y_test)"
   ]
  },
  {
   "cell_type": "code",
   "execution_count": null,
   "metadata": {},
   "outputs": [],
   "source": [
    "from sklearn.metrics import r2_score,mean_absolute_error,mean_squared_error\n",
    "from numpy import sqrt\n",
    "\n",
    "def evaluate_prediction(predictions, actual, model_name):\n",
    "    errors = predictions - actual\n",
    "    mse = np.square(errors).mean()\n",
    "    rmse = np.sqrt(mse)\n",
    "    mae = np.abs(errors).mean()\n",
    "    r2Score = r2_score(actual, predictions)\n",
    "    meanSquaredError = mean_squared_error(actual, predictions)\n",
    "    meanAbsoluteError = mean_absolute_error(actual, predictions)\n",
    "    print(\"r2Score: \", r2Score)\n",
    "    print(\"meanSquaredError: \", meanSquaredError)\n",
    "    print('RMSE: ',sqrt(meanSquaredError))\n",
    "    print(\"meanAbsoluteError: \", meanAbsoluteError)\n",
    "    print(model_name + ':')\n",
    "    print('Mean Absolute Error: {:.4f}'.format(mae))\n",
    "    print('Root Mean Square Error: {:.4f}'.format(rmse))\n",
    "    print('')\n",
    "evaluate_prediction(prediction_gru, y_test, 'GRU')\n",
    "evaluate_prediction(prediction_bilstm, y_test, 'Bidirectiona LSTM')"
   ]
  },
  {
   "cell_type": "code",
   "execution_count": null,
   "metadata": {},
   "outputs": [],
   "source": [
    "# Make prediction for new data\n",
    "def prediction(model):\n",
    "    prediction = model.predict(X_test)\n",
    "    prediction = scaler.inverse_transform(prediction)\n",
    "    return prediction\n",
    "prediction_gru = prediction(model_gru)\n",
    "prediction_bilstm = prediction(model_bilstm)\n",
    "# Plot history and future\n",
    "def plot_multi_step(history, prediction1, prediction2):\n",
    "    \n",
    "    plt.figure(figsize=(15, 6))\n",
    "    \n",
    "    range_history = len(history)\n",
    "    range_future = list(range(range_history, range_history +\n",
    "                        len(prediction1)))\n",
    "    plt.plot(np.arange(range_history), np.array(history), \n",
    "             label='History')\n",
    "    plt.plot(range_future, np.array(prediction1),\n",
    "             label='Forecasted for GRU')\n",
    "    plt.plot(range_future, np.array(prediction2),\n",
    "             label='Forecasted for BiLSTM')\n",
    "      \n",
    "    plt.legend(loc='upper right')\n",
    "    plt.xlabel('Time step (hour)')\n",
    "    plt.ylabel('Water Level (mm)')\n",
    "        \n",
    "plot_multi_step(df, prediction_gru, prediction_bilstm)"
   ]
  },
  {
   "cell_type": "code",
   "execution_count": null,
   "metadata": {},
   "outputs": [],
   "source": [
    "# Make prediction for new data\n",
    "def prediction(model):\n",
    "    prediction = model.predict(X_test)\n",
    "    prediction = scaler.inverse_transform(prediction)\n",
    "    return prediction\n",
    "prediction_bilstm = prediction(model_bilstm)"
   ]
  },
  {
   "cell_type": "code",
   "execution_count": null,
   "metadata": {},
   "outputs": [],
   "source": [
    "new = np.array(prediction_bilstm)[:1]\n",
    "pd.DataFrame(new)"
   ]
  },
  {
   "cell_type": "code",
   "execution_count": null,
   "metadata": {},
   "outputs": [],
   "source": [
    "last = df.tail(1)"
   ]
  },
  {
   "cell_type": "code",
   "execution_count": null,
   "metadata": {},
   "outputs": [],
   "source": [
    "# Plot history and future\n",
    "def plot_multi_step(history, prediction1):\n",
    "    plt.figure(figsize=(15, 6))\n",
    "    range_history = len(history)\n",
    "    range_future = list(range(range_history, range_history +\n",
    "                        len(prediction1)))\n",
    "    plt.plot(np.arange(range_history), np.array(history), \n",
    "             label='History')\n",
    "    if ((last - new) > 0).bool():\n",
    "        plt.plot(range_future, np.array(prediction1),\n",
    "             label='Forecasted for BiLSTM', color=\"green\")\n",
    "    else:\n",
    "        plt.plot(range_future, np.array(prediction1),\n",
    "             label='Forecasted for BiLSTM', color=\"red\")\n",
    "    plt.legend(loc='upper right')\n",
    "    plt.xlabel('Time step (hour)')\n",
    "    plt.ylabel('Water Level (mm)')\n",
    "        \n",
    "plot_multi_step(df, prediction_bilstm)"
   ]
  },
  {
   "cell_type": "code",
   "execution_count": null,
   "metadata": {},
   "outputs": [],
   "source": [
    "# Plot history and future\n",
    "def plot_multi_step(history, prediction1):\n",
    "    plt.figure(figsize=(15, 6))\n",
    "    if ((last - new) > 0).bool():\n",
    "        plt.plot(np.array(prediction1),\n",
    "             label='Forecasted for BiLSTM', color=\"green\")\n",
    "    else:\n",
    "        plt.plot(np.array(prediction1),\n",
    "             label='Forecasted for BiLSTM', color=\"red\")\n",
    "    plt.legend(loc='upper right')\n",
    "    plt.xlabel('Time step (hour)')\n",
    "    plt.ylabel('Water Level (mm)')\n",
    "        \n",
    "plot_multi_step(df, prediction_bilstm)"
   ]
  }
 ],
 "metadata": {
  "kernelspec": {
   "display_name": "Python 3",
   "language": "python",
   "name": "python3"
  },
  "language_info": {
   "codemirror_mode": {
    "name": "ipython",
    "version": 3
   },
   "file_extension": ".py",
   "mimetype": "text/x-python",
   "name": "python",
   "nbconvert_exporter": "python",
   "pygments_lexer": "ipython3",
   "version": "3.10.11"
  },
  "orig_nbformat": 4
 },
 "nbformat": 4,
 "nbformat_minor": 2
}
